{
 "cells": [
  {
   "cell_type": "markdown",
   "id": "e353d13b-a05c-4b04-a4a5-c81eed4f7d3c",
   "metadata": {},
   "source": [
    "<span style=\"color:blue; font-size:20px\">RFE_SelectedFeatures_Classification.</span>"
   ]
  },
  {
   "cell_type": "code",
   "execution_count": 1,
   "id": "8946e79d-18a2-446b-a8e6-f496f1ce0f8b",
   "metadata": {},
   "outputs": [],
   "source": [
    "import pandas as pd\n",
    "from sklearn.model_selection import train_test_split\n",
    "from sklearn.preprocessing import StandardScaler\n",
    "from sklearn.feature_selection import RFE\n",
    "from sklearn.linear_model import LogisticRegression\n",
    "from sklearn.neighbors import KNeighborsClassifier\n",
    "from sklearn.svm import SVC\n",
    "from sklearn.ensemble import RandomForestClassifier\n",
    "from sklearn.naive_bayes import GaussianNB\n",
    "from sklearn.tree import DecisionTreeClassifier\n",
    "from sklearn.metrics import confusion_matrix, accuracy_score, classification_report"
   ]
  },
  {
   "cell_type": "code",
   "execution_count": 2,
   "id": "11f55f10-f8df-413a-ba99-ba210ad751d5",
   "metadata": {},
   "outputs": [],
   "source": [
    "def rfeFeature_with_names(indep_X, dep_Y, n):\n",
    "    \"\"\"\n",
    "    Performs Recursive Feature Elimination and returns a list of dictionaries,\n",
    "    each containing the transformed data and the names of the selected features.\n",
    "    \"\"\"\n",
    "    rfemodellist = [\n",
    "        LogisticRegression(solver='lbfgs'),\n",
    "        SVC(kernel='linear', random_state=0),\n",
    "        RandomForestClassifier(n_estimators=10, criterion='entropy', random_state=0),\n",
    "        DecisionTreeClassifier(criterion='gini', max_features='sqrt', splitter='best', random_state=0)\n",
    "    ]\n",
    "    rfemodel_names = ['Logistic', 'SVC', 'RandomForest', 'DecisionTree']\n",
    "    \n",
    "    results = []\n",
    "    for model_name, model in zip(rfemodel_names, rfemodellist):\n",
    "        print(f\"Applying RFE with {model_name} as base model...\")\n",
    "        rfe_selector = RFE(model, n_features_to_select=n)\n",
    "        rfe_selector.fit(indep_X, dep_Y)\n",
    "        \n",
    "        selected_features_mask = rfe_selector.support_\n",
    "        selected_features_names = indep_X.columns[selected_features_mask].tolist()\n",
    "        \n",
    "        print(f\"Selected features by {model_name}: {selected_features_names}\")\n",
    "        \n",
    "        rfe_features_transformed = rfe_selector.transform(indep_X)\n",
    "        \n",
    "        results.append({'features_data': rfe_features_transformed, 'feature_names': selected_features_names})\n",
    "    \n",
    "    return results"
   ]
  },
  {
   "cell_type": "code",
   "execution_count": 3,
   "id": "72d76bcd-de71-4b5f-9c4e-529f219ae1aa",
   "metadata": {},
   "outputs": [],
   "source": [
    "def split_scalar(indep_X, dep_Y):\n",
    "    \"\"\"Splits data and applies standard scaling.\"\"\"\n",
    "    X_train, X_test, y_train, y_test = train_test_split(indep_X, dep_Y, test_size=0.25, random_state=0)\n",
    "    sc = StandardScaler()\n",
    "    X_train = sc.fit_transform(X_train)\n",
    "    X_test = sc.transform(X_test)\n",
    "    return X_train, X_test, y_train, y_test\n",
    "\n",
    "def cm_prediction(classifier, X_test, y_test):\n",
    "    \"\"\"Generates predictions and classification reports.\"\"\"\n",
    "    y_pred = classifier.predict(X_test)\n",
    "    cm = confusion_matrix(y_test, y_pred)\n",
    "    accuracy = accuracy_score(y_test, y_pred)\n",
    "    report = classification_report(y_test, y_pred)\n",
    "    return accuracy, report, cm"
   ]
  },
  {
   "cell_type": "code",
   "execution_count": 4,
   "id": "592522ed-e634-4707-95e5-35538b7a6534",
   "metadata": {},
   "outputs": [],
   "source": [
    "def get_accuracy_for_model(classifier_name, X_train, y_train, X_test, y_test):\n",
    "    \"\"\"Trains a classifier and returns its accuracy.\"\"\"\n",
    "    classifier = None\n",
    "    if classifier_name == 'Logistic':\n",
    "        classifier = LogisticRegression(random_state=0)\n",
    "    elif classifier_name == 'SVMl':\n",
    "        classifier = SVC(kernel='linear', random_state=0)\n",
    "    elif classifier_name == 'SVMnl':\n",
    "        classifier = SVC(kernel='rbf', random_state=0)\n",
    "    elif classifier_name == 'KNN':\n",
    "        classifier = KNeighborsClassifier(n_neighbors=5, metric='minkowski', p=2)\n",
    "    elif classifier_name == 'Navie':\n",
    "        classifier = GaussianNB()\n",
    "    elif classifier_name == 'Decision':\n",
    "        classifier = DecisionTreeClassifier(criterion='entropy', random_state=0)\n",
    "    elif classifier_name == 'Random':\n",
    "        classifier = RandomForestClassifier(n_estimators=10, criterion='entropy', random_state=0)\n",
    "    \n",
    "    classifier.fit(X_train, y_train)\n",
    "    accuracy, _, _ = cm_prediction(classifier, X_test, y_test)\n",
    "    return accuracy\n",
    "\n"
   ]
  },
  {
   "cell_type": "code",
   "execution_count": 15,
   "id": "c664eae4-1916-4cfc-84f8-c81100d54217",
   "metadata": {},
   "outputs": [],
   "source": [
    "def rfe_classification(results, dep_Y):\n",
    "    \"\"\"\n",
    "    Populates a DataFrame with accuracy scores for each classifier\n",
    "    and each RFE feature set.\n",
    "    \"\"\"\n",
    "    index_labels = [f\"RFE_{name}\" for name in ['Logistic', 'SVC', 'RandomForest', 'DecisionTree']]\n",
    "    \n",
    "    rfedataframe = pd.DataFrame(index=index_labels,\n",
    "                                columns=['Logistic', 'SVMl', 'SVMnl', 'KNN', 'Navie', 'Decision', 'Random'])\n",
    "    \n",
    "    classifier_names = ['Logistic', 'SVMl', 'SVMnl', 'KNN', 'Navie', 'Decision', 'Random']\n",
    "    \n",
    "    for number, result in enumerate(results):\n",
    "        X_train, X_test, y_train, y_test = split_scalar(result['features_data'], dep_Y)\n",
    "        \n",
    "        for classifier_name in classifier_names:\n",
    "            accuracy = get_accuracy_for_model(classifier_name, X_train, y_train, X_test, y_test)\n",
    "            rfedataframe.iloc[number][classifier_name] = accuracy\n",
    "    \n",
    "    rfedataframe['Selected_Features'] = [r['feature_names'] for r in results]\n",
    "    return rfedataframe"
   ]
  },
  {
   "cell_type": "code",
   "execution_count": 16,
   "id": "8da4c49c-3142-47f4-a43c-52118c4907a3",
   "metadata": {},
   "outputs": [],
   "source": [
    "dataset1 = pd.read_csv(\"prep.csv\", index_col=None)\n",
    "df2 = dataset1\n",
    "df2 = pd.get_dummies(df2, drop_first=True)\n",
    "indep_X = df2.drop('classification_yes', axis=1)\n",
    "dep_Y = df2['classification_yes']"
   ]
  },
  {
   "cell_type": "code",
   "execution_count": 17,
   "id": "a71983ad-7d33-4d69-88fe-41c34ff015cf",
   "metadata": {},
   "outputs": [],
   "source": [
    "import warnings\n",
    "from sklearn.exceptions import ConvergenceWarning\n",
    "warnings.filterwarnings(\"ignore\", category=ConvergenceWarning)\n",
    "warnings.filterwarnings(\"ignore\", category=FutureWarning)"
   ]
  },
  {
   "cell_type": "code",
   "execution_count": 18,
   "id": "439d75b4-5aaa-4808-96b0-01a8c8ab0b7e",
   "metadata": {},
   "outputs": [
    {
     "name": "stdout",
     "output_type": "stream",
     "text": [
      "Applying RFE with Logistic as base model...\n",
      "Selected features by Logistic: ['sg_c', 'sg_d', 'htn_yes']\n",
      "Applying RFE with SVC as base model...\n",
      "Selected features by SVC: ['sg_d', 'dm_yes', 'appet_yes']\n",
      "Applying RFE with RandomForest as base model...\n",
      "Selected features by RandomForest: ['sc', 'hrmo', 'pcv']\n",
      "Applying RFE with DecisionTree as base model...\n",
      "Selected features by DecisionTree: ['hrmo', 'sg_c', 'dm_yes']\n"
     ]
    }
   ],
   "source": [
    "rfe_results = rfeFeature_with_names(indep_X, dep_Y, 3)"
   ]
  },
  {
   "cell_type": "code",
   "execution_count": 19,
   "id": "4b19e1a5-5f2a-4f91-8f4b-0811b497a2e0",
   "metadata": {},
   "outputs": [],
   "source": [
    "result = rfe_classification(rfe_results, dep_Y)"
   ]
  },
  {
   "cell_type": "code",
   "execution_count": 20,
   "id": "82828548-6653-4b0e-b44c-e44eba32bf4a",
   "metadata": {},
   "outputs": [
    {
     "data": {
      "text/html": [
       "<div>\n",
       "<style scoped>\n",
       "    .dataframe tbody tr th:only-of-type {\n",
       "        vertical-align: middle;\n",
       "    }\n",
       "\n",
       "    .dataframe tbody tr th {\n",
       "        vertical-align: top;\n",
       "    }\n",
       "\n",
       "    .dataframe thead th {\n",
       "        text-align: right;\n",
       "    }\n",
       "</style>\n",
       "<table border=\"1\" class=\"dataframe\">\n",
       "  <thead>\n",
       "    <tr style=\"text-align: right;\">\n",
       "      <th></th>\n",
       "      <th>Logistic</th>\n",
       "      <th>SVMl</th>\n",
       "      <th>SVMnl</th>\n",
       "      <th>KNN</th>\n",
       "      <th>Navie</th>\n",
       "      <th>Decision</th>\n",
       "      <th>Random</th>\n",
       "      <th>Selected_Features</th>\n",
       "    </tr>\n",
       "  </thead>\n",
       "  <tbody>\n",
       "    <tr>\n",
       "      <th>RFE_Logistic</th>\n",
       "      <td>0.94</td>\n",
       "      <td>0.94</td>\n",
       "      <td>0.94</td>\n",
       "      <td>0.94</td>\n",
       "      <td>0.94</td>\n",
       "      <td>0.94</td>\n",
       "      <td>0.94</td>\n",
       "      <td>[sg_c, sg_d, htn_yes]</td>\n",
       "    </tr>\n",
       "    <tr>\n",
       "      <th>RFE_SVC</th>\n",
       "      <td>0.87</td>\n",
       "      <td>0.87</td>\n",
       "      <td>0.87</td>\n",
       "      <td>0.87</td>\n",
       "      <td>0.87</td>\n",
       "      <td>0.87</td>\n",
       "      <td>0.87</td>\n",
       "      <td>[sg_d, dm_yes, appet_yes]</td>\n",
       "    </tr>\n",
       "    <tr>\n",
       "      <th>RFE_RandomForest</th>\n",
       "      <td>0.94</td>\n",
       "      <td>0.94</td>\n",
       "      <td>0.94</td>\n",
       "      <td>0.94</td>\n",
       "      <td>0.9</td>\n",
       "      <td>0.91</td>\n",
       "      <td>0.92</td>\n",
       "      <td>[sc, hrmo, pcv]</td>\n",
       "    </tr>\n",
       "    <tr>\n",
       "      <th>RFE_DecisionTree</th>\n",
       "      <td>0.98</td>\n",
       "      <td>0.98</td>\n",
       "      <td>0.98</td>\n",
       "      <td>0.98</td>\n",
       "      <td>0.79</td>\n",
       "      <td>0.97</td>\n",
       "      <td>0.97</td>\n",
       "      <td>[hrmo, sg_c, dm_yes]</td>\n",
       "    </tr>\n",
       "  </tbody>\n",
       "</table>\n",
       "</div>"
      ],
      "text/plain": [
       "                 Logistic  SVMl SVMnl   KNN Navie Decision Random  \\\n",
       "RFE_Logistic         0.94  0.94  0.94  0.94  0.94     0.94   0.94   \n",
       "RFE_SVC              0.87  0.87  0.87  0.87  0.87     0.87   0.87   \n",
       "RFE_RandomForest     0.94  0.94  0.94  0.94   0.9     0.91   0.92   \n",
       "RFE_DecisionTree     0.98  0.98  0.98  0.98  0.79     0.97   0.97   \n",
       "\n",
       "                          Selected_Features  \n",
       "RFE_Logistic          [sg_c, sg_d, htn_yes]  \n",
       "RFE_SVC           [sg_d, dm_yes, appet_yes]  \n",
       "RFE_RandomForest            [sc, hrmo, pcv]  \n",
       "RFE_DecisionTree       [hrmo, sg_c, dm_yes]  "
      ]
     },
     "execution_count": 20,
     "metadata": {},
     "output_type": "execute_result"
    }
   ],
   "source": [
    "result"
   ]
  },
  {
   "cell_type": "code",
   "execution_count": null,
   "id": "90376542-786b-49bf-a6c9-a4223d85a647",
   "metadata": {},
   "outputs": [],
   "source": [
    "The image shows the results of a Recursive Feature Elimination (RFE) process combined with various machine learning classifiers.\n",
    "Selected Features\n",
    "The features selected by each RFE model are listed in the Selected_Features column:\n",
    "RFE_Logistic: sg_c, sg_d, htn_yes\n",
    "RFE_SVC: sg_d, dm_yes, appet_yes\n",
    "RFE_RandomForest: sc, hrmo, pcv\n",
    "RFE_DecisionTree: hrmo, sg_c, dm_yes"
   ]
  },
  {
   "cell_type": "code",
   "execution_count": null,
   "id": "a1ca7fd9-dcf4-4fee-a2cd-b198bec78030",
   "metadata": {},
   "outputs": [],
   "source": []
  }
 ],
 "metadata": {
  "kernelspec": {
   "display_name": "Python 3 (ipykernel)",
   "language": "python",
   "name": "python3"
  },
  "language_info": {
   "codemirror_mode": {
    "name": "ipython",
    "version": 3
   },
   "file_extension": ".py",
   "mimetype": "text/x-python",
   "name": "python",
   "nbconvert_exporter": "python",
   "pygments_lexer": "ipython3",
   "version": "3.12.9"
  }
 },
 "nbformat": 4,
 "nbformat_minor": 5
}
